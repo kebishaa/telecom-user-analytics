{
 "cells": [
  {
   "cell_type": "code",
   "execution_count": 1,
   "id": "2cdaff77",
   "metadata": {},
   "outputs": [],
   "source": [
    "import pandas as pd\n",
    "import numpy as np"
   ]
  },
  {
   "cell_type": "code",
   "execution_count": 2,
   "id": "9a7740a2",
   "metadata": {},
   "outputs": [],
   "source": [
    "# packages for path locations\n",
    "import os\n",
    "import sys"
   ]
  },
  {
   "cell_type": "code",
   "execution_count": 3,
   "id": "8890bb4d",
   "metadata": {},
   "outputs": [
    {
     "ename": "ModuleNotFoundError",
     "evalue": "No module named 'data_preProcessing'",
     "output_type": "error",
     "traceback": [
      "\u001b[1;31m---------------------------------------------------------------------------\u001b[0m",
      "\u001b[1;31mModuleNotFoundError\u001b[0m                       Traceback (most recent call last)",
      "Input \u001b[1;32mIn [3]\u001b[0m, in \u001b[0;36m<cell line: 4>\u001b[1;34m()\u001b[0m\n\u001b[0;32m      2\u001b[0m sys\u001b[38;5;241m.\u001b[39mpath\u001b[38;5;241m.\u001b[39minsert(\u001b[38;5;241m0\u001b[39m,\u001b[38;5;124m'\u001b[39m\u001b[38;5;124m../scripts/\u001b[39m\u001b[38;5;124m'\u001b[39m)\n\u001b[0;32m      3\u001b[0m \u001b[38;5;28;01mfrom\u001b[39;00m \u001b[38;5;21;01mdata_exploration\u001b[39;00m \u001b[38;5;28;01mimport\u001b[39;00m exploration\n\u001b[1;32m----> 4\u001b[0m \u001b[38;5;28;01mfrom\u001b[39;00m \u001b[38;5;21;01mdata_preProcessing\u001b[39;00m \u001b[38;5;28;01mimport\u001b[39;00m data_preProcessing_script\n",
      "\u001b[1;31mModuleNotFoundError\u001b[0m: No module named 'data_preProcessing'"
     ]
    }
   ],
   "source": [
    "# package scripts in the script module folder \n",
    "sys.path.insert(0,'../scripts/')\n",
    "from data_exploration import exploration\n",
    "from data_preProcessing import data_preProcessing_script"
   ]
  },
  {
   "cell_type": "code",
   "execution_count": null,
   "id": "945a3da9",
   "metadata": {},
   "outputs": [],
   "source": [
    "#importing the some libraries for the project\n",
    "import seaborn as sns\n",
    "import matplotlib.pyplot as pl\n",
    "%matplotlib inline\n",
    "from statistics import *\n",
    "import warnings\n",
    "warnings.filterwarnings('ignore')"
   ]
  },
  {
   "cell_type": "code",
   "execution_count": null,
   "id": "7ae3ae0a",
   "metadata": {},
   "outputs": [],
   "source": []
  }
 ],
 "metadata": {
  "kernelspec": {
   "display_name": "Python 3 (ipykernel)",
   "language": "python",
   "name": "python3"
  },
  "language_info": {
   "codemirror_mode": {
    "name": "ipython",
    "version": 3
   },
   "file_extension": ".py",
   "mimetype": "text/x-python",
   "name": "python",
   "nbconvert_exporter": "python",
   "pygments_lexer": "ipython3",
   "version": "3.9.12"
  }
 },
 "nbformat": 4,
 "nbformat_minor": 5
}
