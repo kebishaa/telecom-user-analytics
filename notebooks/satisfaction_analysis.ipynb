{
 "cells": [
  {
   "cell_type": "markdown",
   "id": "8e543fbd",
   "metadata": {},
   "source": [
    "# Satisfaction Analysis"
   ]
  },
  {
   "cell_type": "markdown",
   "id": "16b4acca",
   "metadata": {},
   "source": [
    "Assuming that the satisfaction of a user is dependent on user engagement and experience, you’re expected in this section to analyze customer satisfaction in depth."
   ]
  },
  {
   "cell_type": "code",
   "execution_count": 1,
   "id": "7ace0583",
   "metadata": {},
   "outputs": [],
   "source": [
    "#importing libraries\n",
    "import numpy as np\n",
    "import pandas as pd\n",
    "import plotly.graph_objects as go\n",
    "import plotly.express as px\n",
    "import seaborn as sns\n",
    "import matplotlib.pyplot as plt\n",
    "%matplotlib inline\n",
    "from statistics import *\n",
    "from sklearn import preprocessing\n",
    "from sklearn.cluster import KMeans\n",
    "from sklearn.preprocessing import StandardScaler\n",
    "from sklearn.model_selection import GridSearchCV\n",
    "from sklearn.linear_model import Ridge\n",
    "from sklearn.cluster import KMeans\n",
    "from sklearn.metrics.pairwise import euclidean_distances"
   ]
  },
  {
   "cell_type": "markdown",
   "id": "30e43ad3",
   "metadata": {},
   "source": [
    "# Based on the engagement analysis + the experience analysis you conducted above ,"
   ]
  },
  {
   "cell_type": "markdown",
   "id": "ac80cfe3",
   "metadata": {},
   "source": [
    "Write a python program to assign:\n",
    "\n",
    "engagement score to each user. Consider the engagement score as the Euclidean distance between the user data point & the less engaged cluster (use the first clustering for this) (Euclidean Distance)\n",
    "experience score to each user. Consider the experience score as the Euclidean distance between the user data point & the worst experience’s cluster."
   ]
  },
  {
   "cell_type": "markdown",
   "id": "92a9b534",
   "metadata": {},
   "source": [
    "# Engagement score"
   ]
  },
  {
   "cell_type": "code",
   "execution_count": 4,
   "id": "57c9de40",
   "metadata": {},
   "outputs": [
    {
     "data": {
      "text/html": [
       "<div>\n",
       "<style scoped>\n",
       "    .dataframe tbody tr th:only-of-type {\n",
       "        vertical-align: middle;\n",
       "    }\n",
       "\n",
       "    .dataframe tbody tr th {\n",
       "        vertical-align: top;\n",
       "    }\n",
       "\n",
       "    .dataframe thead th {\n",
       "        text-align: right;\n",
       "    }\n",
       "</style>\n",
       "<table border=\"1\" class=\"dataframe\">\n",
       "  <thead>\n",
       "    <tr style=\"text-align: right;\">\n",
       "      <th></th>\n",
       "      <th>Total UL and DL</th>\n",
       "      <th>Dur. (ms)</th>\n",
       "      <th>sessions frequency</th>\n",
       "    </tr>\n",
       "  </thead>\n",
       "  <tbody>\n",
       "    <tr>\n",
       "      <th>0</th>\n",
       "      <td>-0.018266</td>\n",
       "      <td>5.431628</td>\n",
       "      <td>0.046955</td>\n",
       "    </tr>\n",
       "    <tr>\n",
       "      <th>1</th>\n",
       "      <td>-0.009948</td>\n",
       "      <td>1.332984</td>\n",
       "      <td>-0.210176</td>\n",
       "    </tr>\n",
       "    <tr>\n",
       "      <th>2</th>\n",
       "      <td>1.256253</td>\n",
       "      <td>-0.241265</td>\n",
       "      <td>-0.218358</td>\n",
       "    </tr>\n",
       "    <tr>\n",
       "      <th>3</th>\n",
       "      <td>-1.266658</td>\n",
       "      <td>-0.253828</td>\n",
       "      <td>-0.220158</td>\n",
       "    </tr>\n",
       "    <tr>\n",
       "      <th>4</th>\n",
       "      <td>0.010122</td>\n",
       "      <td>-0.050115</td>\n",
       "      <td>2.807734</td>\n",
       "    </tr>\n",
       "    <tr>\n",
       "      <th>5</th>\n",
       "      <td>-0.002853</td>\n",
       "      <td>-0.416422</td>\n",
       "      <td>-0.232556</td>\n",
       "    </tr>\n",
       "  </tbody>\n",
       "</table>\n",
       "</div>"
      ],
      "text/plain": [
       "   Total UL and DL  Dur. (ms)  sessions frequency\n",
       "0        -0.018266   5.431628            0.046955\n",
       "1        -0.009948   1.332984           -0.210176\n",
       "2         1.256253  -0.241265           -0.218358\n",
       "3        -1.266658  -0.253828           -0.220158\n",
       "4         0.010122  -0.050115            2.807734\n",
       "5        -0.002853  -0.416422           -0.232556"
      ]
     },
     "execution_count": 4,
     "metadata": {},
     "output_type": "execute_result"
    }
   ],
   "source": [
    "# centroid file from previous outputs\n",
    "enga_centr = pd.read_csv('../data/centero_engagment.csv')\n",
    "enga_centr = enga_centr.iloc[:,1:]\n",
    "enga_centr"
   ]
  },
  {
   "cell_type": "code",
   "execution_count": 6,
   "id": "9b2413a8",
   "metadata": {},
   "outputs": [
    {
     "data": {
      "text/html": [
       "<div>\n",
       "<style scoped>\n",
       "    .dataframe tbody tr th:only-of-type {\n",
       "        vertical-align: middle;\n",
       "    }\n",
       "\n",
       "    .dataframe tbody tr th {\n",
       "        vertical-align: top;\n",
       "    }\n",
       "\n",
       "    .dataframe thead th {\n",
       "        text-align: right;\n",
       "    }\n",
       "</style>\n",
       "<table border=\"1\" class=\"dataframe\">\n",
       "  <thead>\n",
       "    <tr style=\"text-align: right;\">\n",
       "      <th></th>\n",
       "      <th>Total UL and DL</th>\n",
       "      <th>Dur. (ms)</th>\n",
       "      <th>sessions frequency</th>\n",
       "    </tr>\n",
       "    <tr>\n",
       "      <th>MSISDN/Number</th>\n",
       "      <th></th>\n",
       "      <th></th>\n",
       "      <th></th>\n",
       "    </tr>\n",
       "  </thead>\n",
       "  <tbody>\n",
       "    <tr>\n",
       "      <th>3.360100e+10</th>\n",
       "      <td>-1.158862</td>\n",
       "      <td>20.571127</td>\n",
       "      <td>-0.495197</td>\n",
       "    </tr>\n",
       "    <tr>\n",
       "      <th>3.360100e+10</th>\n",
       "      <td>0.921507</td>\n",
       "      <td>15.109232</td>\n",
       "      <td>-0.495197</td>\n",
       "    </tr>\n",
       "    <tr>\n",
       "      <th>3.360100e+10</th>\n",
       "      <td>-0.575403</td>\n",
       "      <td>15.069424</td>\n",
       "      <td>-0.495197</td>\n",
       "    </tr>\n",
       "    <tr>\n",
       "      <th>3.360101e+10</th>\n",
       "      <td>2.095055</td>\n",
       "      <td>14.589959</td>\n",
       "      <td>-0.495197</td>\n",
       "    </tr>\n",
       "    <tr>\n",
       "      <th>3.360101e+10</th>\n",
       "      <td>0.701781</td>\n",
       "      <td>11.820586</td>\n",
       "      <td>0.731244</td>\n",
       "    </tr>\n",
       "  </tbody>\n",
       "</table>\n",
       "</div>"
      ],
      "text/plain": [
       "               Total UL and DL  Dur. (ms)  sessions frequency\n",
       "MSISDN/Number                                                \n",
       "3.360100e+10         -1.158862  20.571127           -0.495197\n",
       "3.360100e+10          0.921507  15.109232           -0.495197\n",
       "3.360100e+10         -0.575403  15.069424           -0.495197\n",
       "3.360101e+10          2.095055  14.589959           -0.495197\n",
       "3.360101e+10          0.701781  11.820586            0.731244"
      ]
     },
     "execution_count": 6,
     "metadata": {},
     "output_type": "execute_result"
    }
   ],
   "source": [
    "# Import standardized engagement metric values \n",
    "enga_metr = pd.read_csv('../data/std_engagement.csv')\n",
    "enga_metr.index = enga_metr['MSISDN/Number']\n",
    "enga_metr = enga_metr.iloc[:,1:4]\n",
    "enga_metr.head()"
   ]
  },
  {
   "cell_type": "code",
   "execution_count": 7,
   "id": "42afb04b",
   "metadata": {},
   "outputs": [
    {
     "data": {
      "text/plain": [
       "array([[15.19208078],\n",
       "       [ 9.73822996],\n",
       "       [ 9.66909777],\n",
       "       ...,\n",
       "       [ 4.61464489],\n",
       "       [ 4.66646744],\n",
       "       [ 4.70325266]])"
      ]
     },
     "execution_count": 7,
     "metadata": {},
     "output_type": "execute_result"
    }
   ],
   "source": [
    "# calculating the distance between the metric values and the centroid of the the first k-means cluster\n",
    "engagement_score = euclidean_distances(enga_metr.values.tolist(),[enga_centr.values.tolist()[0]])\n",
    "engagement_score"
   ]
  },
  {
   "cell_type": "code",
   "execution_count": 8,
   "id": "b674a144",
   "metadata": {},
   "outputs": [
    {
     "data": {
      "text/plain": [
       "[15.192080784619563, 9.738229960336461]"
      ]
     },
     "execution_count": 8,
     "metadata": {},
     "output_type": "execute_result"
    }
   ],
   "source": [
    "engagement_score = [val[0] for val in engagement_score.tolist()]\n",
    "engagement_score[:2]"
   ]
  },
  {
   "cell_type": "markdown",
   "id": "b6f17241",
   "metadata": {},
   "source": [
    "# Experience score"
   ]
  },
  {
   "cell_type": "code",
   "execution_count": 10,
   "id": "a9a60019",
   "metadata": {},
   "outputs": [
    {
     "data": {
      "text/html": [
       "<div>\n",
       "<style scoped>\n",
       "    .dataframe tbody tr th:only-of-type {\n",
       "        vertical-align: middle;\n",
       "    }\n",
       "\n",
       "    .dataframe tbody tr th {\n",
       "        vertical-align: top;\n",
       "    }\n",
       "\n",
       "    .dataframe thead th {\n",
       "        text-align: right;\n",
       "    }\n",
       "</style>\n",
       "<table border=\"1\" class=\"dataframe\">\n",
       "  <thead>\n",
       "    <tr style=\"text-align: right;\">\n",
       "      <th></th>\n",
       "      <th>Average RTT</th>\n",
       "      <th>Average TCP</th>\n",
       "      <th>Average throughput</th>\n",
       "    </tr>\n",
       "  </thead>\n",
       "  <tbody>\n",
       "    <tr>\n",
       "      <th>0</th>\n",
       "      <td>0.750116</td>\n",
       "      <td>-0.506050</td>\n",
       "      <td>-0.744422</td>\n",
       "    </tr>\n",
       "    <tr>\n",
       "      <th>1</th>\n",
       "      <td>-1.230701</td>\n",
       "      <td>0.827638</td>\n",
       "      <td>-0.152066</td>\n",
       "    </tr>\n",
       "    <tr>\n",
       "      <th>2</th>\n",
       "      <td>0.518475</td>\n",
       "      <td>-0.346097</td>\n",
       "      <td>1.408331</td>\n",
       "    </tr>\n",
       "  </tbody>\n",
       "</table>\n",
       "</div>"
      ],
      "text/plain": [
       "   Average RTT  Average TCP  Average throughput\n",
       "0     0.750116    -0.506050           -0.744422\n",
       "1    -1.230701     0.827638           -0.152066\n",
       "2     0.518475    -0.346097            1.408331"
      ]
     },
     "execution_count": 10,
     "metadata": {},
     "output_type": "execute_result"
    }
   ],
   "source": [
    "# Get centroid value from the previous files\n",
    "exper_centr = pd.read_csv('../data/centro_experience.csv')\n",
    "exper_centr = exper_centr.iloc[:,1:]\n",
    "exper_centr"
   ]
  },
  {
   "cell_type": "code",
   "execution_count": 12,
   "id": "c7c200a6",
   "metadata": {},
   "outputs": [
    {
     "data": {
      "text/html": [
       "<div>\n",
       "<style scoped>\n",
       "    .dataframe tbody tr th:only-of-type {\n",
       "        vertical-align: middle;\n",
       "    }\n",
       "\n",
       "    .dataframe tbody tr th {\n",
       "        vertical-align: top;\n",
       "    }\n",
       "\n",
       "    .dataframe thead th {\n",
       "        text-align: right;\n",
       "    }\n",
       "</style>\n",
       "<table border=\"1\" class=\"dataframe\">\n",
       "  <thead>\n",
       "    <tr style=\"text-align: right;\">\n",
       "      <th></th>\n",
       "      <th>Average TCP</th>\n",
       "      <th>Average throughput</th>\n",
       "      <th>Average RTT</th>\n",
       "    </tr>\n",
       "    <tr>\n",
       "      <th>MSISDN/Number</th>\n",
       "      <th></th>\n",
       "      <th></th>\n",
       "      <th></th>\n",
       "    </tr>\n",
       "  </thead>\n",
       "  <tbody>\n",
       "    <tr>\n",
       "      <th>3.366117e+10</th>\n",
       "      <td>-1.357519</td>\n",
       "      <td>15.220434</td>\n",
       "      <td>0.510533</td>\n",
       "    </tr>\n",
       "    <tr>\n",
       "      <th>3.369817e+10</th>\n",
       "      <td>0.711986</td>\n",
       "      <td>11.928930</td>\n",
       "      <td>-0.596697</td>\n",
       "    </tr>\n",
       "    <tr>\n",
       "      <th>3.367251e+10</th>\n",
       "      <td>-1.480467</td>\n",
       "      <td>11.918292</td>\n",
       "      <td>-0.714487</td>\n",
       "    </tr>\n",
       "    <tr>\n",
       "      <th>3.365169e+10</th>\n",
       "      <td>-1.396600</td>\n",
       "      <td>10.960414</td>\n",
       "      <td>-0.855836</td>\n",
       "    </tr>\n",
       "    <tr>\n",
       "      <th>3.366856e+10</th>\n",
       "      <td>0.692157</td>\n",
       "      <td>10.681835</td>\n",
       "      <td>-0.596697</td>\n",
       "    </tr>\n",
       "    <tr>\n",
       "      <th>...</th>\n",
       "      <td>...</td>\n",
       "      <td>...</td>\n",
       "      <td>...</td>\n",
       "    </tr>\n",
       "    <tr>\n",
       "      <th>3.361648e+10</th>\n",
       "      <td>0.761222</td>\n",
       "      <td>-0.552987</td>\n",
       "      <td>-0.855836</td>\n",
       "    </tr>\n",
       "    <tr>\n",
       "      <th>3.362400e+10</th>\n",
       "      <td>0.761222</td>\n",
       "      <td>-0.552987</td>\n",
       "      <td>-1.303439</td>\n",
       "    </tr>\n",
       "    <tr>\n",
       "      <th>3.376193e+10</th>\n",
       "      <td>0.761222</td>\n",
       "      <td>-0.552987</td>\n",
       "      <td>-0.125535</td>\n",
       "    </tr>\n",
       "    <tr>\n",
       "      <th>3.369817e+10</th>\n",
       "      <td>0.761222</td>\n",
       "      <td>-0.552987</td>\n",
       "      <td>-1.067859</td>\n",
       "    </tr>\n",
       "    <tr>\n",
       "      <th>3.360672e+10</th>\n",
       "      <td>0.761222</td>\n",
       "      <td>-0.552987</td>\n",
       "      <td>1.251637</td>\n",
       "    </tr>\n",
       "  </tbody>\n",
       "</table>\n",
       "<p>106856 rows × 3 columns</p>\n",
       "</div>"
      ],
      "text/plain": [
       "               Average TCP  Average throughput  Average RTT\n",
       "MSISDN/Number                                              \n",
       "3.366117e+10     -1.357519           15.220434     0.510533\n",
       "3.369817e+10      0.711986           11.928930    -0.596697\n",
       "3.367251e+10     -1.480467           11.918292    -0.714487\n",
       "3.365169e+10     -1.396600           10.960414    -0.855836\n",
       "3.366856e+10      0.692157           10.681835    -0.596697\n",
       "...                    ...                 ...          ...\n",
       "3.361648e+10      0.761222           -0.552987    -0.855836\n",
       "3.362400e+10      0.761222           -0.552987    -1.303439\n",
       "3.376193e+10      0.761222           -0.552987    -0.125535\n",
       "3.369817e+10      0.761222           -0.552987    -1.067859\n",
       "3.360672e+10      0.761222           -0.552987     1.251637\n",
       "\n",
       "[106856 rows x 3 columns]"
      ]
     },
     "execution_count": 12,
     "metadata": {},
     "output_type": "execute_result"
    }
   ],
   "source": [
    "# standardized experience metric values\n",
    "exper_metr = pd.read_csv('../data/std_experience.csv')\n",
    "exper_metr.index = exper_metr['MSISDN/Number']\n",
    "exper_metr = exper_metr.iloc[:106856,1:4]\n",
    "exper_metr"
   ]
  },
  {
   "cell_type": "code",
   "execution_count": 13,
   "id": "8787a528",
   "metadata": {},
   "outputs": [
    {
     "data": {
      "text/plain": [
       "array([[15.91663653],\n",
       "       [12.43591568],\n",
       "       [12.62302166],\n",
       "       ...,\n",
       "       [ 0.62076363],\n",
       "       [ 0.32701291],\n",
       "       [ 1.99664168]])"
      ]
     },
     "execution_count": 13,
     "metadata": {},
     "output_type": "execute_result"
    }
   ],
   "source": [
    "# Calculating the distance between the metric values and the centroid of the the first k-means cluster\n",
    "experience_score = euclidean_distances(exper_metr.values.tolist(),[exper_centr.values.tolist()[0]])\n",
    "experience_score"
   ]
  },
  {
   "cell_type": "code",
   "execution_count": 14,
   "id": "8f9b67a8",
   "metadata": {},
   "outputs": [
    {
     "data": {
      "text/plain": [
       "[15.916636529999163, 12.4359156801666]"
      ]
     },
     "execution_count": 14,
     "metadata": {},
     "output_type": "execute_result"
    }
   ],
   "source": [
    "experience_score = [val[0] for val in experience_score.tolist()]\n",
    "experience_score[:2]"
   ]
  },
  {
   "cell_type": "markdown",
   "id": "fcaf5c73",
   "metadata": {},
   "source": [
    "# Consider the average of both engagement & experience scores as the satisfaction score & report the top 10 satisfied customer"
   ]
  },
  {
   "cell_type": "code",
   "execution_count": 15,
   "id": "bb81d97a",
   "metadata": {},
   "outputs": [
    {
     "data": {
      "text/html": [
       "<div>\n",
       "<style scoped>\n",
       "    .dataframe tbody tr th:only-of-type {\n",
       "        vertical-align: middle;\n",
       "    }\n",
       "\n",
       "    .dataframe tbody tr th {\n",
       "        vertical-align: top;\n",
       "    }\n",
       "\n",
       "    .dataframe thead th {\n",
       "        text-align: right;\n",
       "    }\n",
       "</style>\n",
       "<table border=\"1\" class=\"dataframe\">\n",
       "  <thead>\n",
       "    <tr style=\"text-align: right;\">\n",
       "      <th></th>\n",
       "      <th>engagement_score</th>\n",
       "      <th>experience_score</th>\n",
       "    </tr>\n",
       "    <tr>\n",
       "      <th>MSISDN/Number</th>\n",
       "      <th></th>\n",
       "      <th></th>\n",
       "    </tr>\n",
       "  </thead>\n",
       "  <tbody>\n",
       "    <tr>\n",
       "      <th>3.360100e+10</th>\n",
       "      <td>15.192081</td>\n",
       "      <td>15.916637</td>\n",
       "    </tr>\n",
       "    <tr>\n",
       "      <th>3.360100e+10</th>\n",
       "      <td>9.738230</td>\n",
       "      <td>12.435916</td>\n",
       "    </tr>\n",
       "    <tr>\n",
       "      <th>3.360100e+10</th>\n",
       "      <td>9.669098</td>\n",
       "      <td>12.623022</td>\n",
       "    </tr>\n",
       "    <tr>\n",
       "      <th>3.360101e+10</th>\n",
       "      <td>9.414621</td>\n",
       "      <td>11.666216</td>\n",
       "    </tr>\n",
       "    <tr>\n",
       "      <th>3.360101e+10</th>\n",
       "      <td>6.465718</td>\n",
       "      <td>11.189011</td>\n",
       "    </tr>\n",
       "  </tbody>\n",
       "</table>\n",
       "</div>"
      ],
      "text/plain": [
       "               engagement_score  experience_score\n",
       "MSISDN/Number                                    \n",
       "3.360100e+10          15.192081         15.916637\n",
       "3.360100e+10           9.738230         12.435916\n",
       "3.360100e+10           9.669098         12.623022\n",
       "3.360101e+10           9.414621         11.666216\n",
       "3.360101e+10           6.465718         11.189011"
      ]
     },
     "execution_count": 15,
     "metadata": {},
     "output_type": "execute_result"
    }
   ],
   "source": [
    "#creating a dataframe to contain both engagement and experience score with index being 'MSISDN/Number' to identify the user\n",
    "df = pd.DataFrame()\n",
    "df['engagement_score'] = engagement_score\n",
    "df['experience_score'] = experience_score\n",
    "df.index = enga_metr.index\n",
    "#result\n",
    "df.head()"
   ]
  },
  {
   "cell_type": "code",
   "execution_count": 16,
   "id": "37187d8b",
   "metadata": {},
   "outputs": [
    {
     "data": {
      "text/html": [
       "<div>\n",
       "<style scoped>\n",
       "    .dataframe tbody tr th:only-of-type {\n",
       "        vertical-align: middle;\n",
       "    }\n",
       "\n",
       "    .dataframe tbody tr th {\n",
       "        vertical-align: top;\n",
       "    }\n",
       "\n",
       "    .dataframe thead th {\n",
       "        text-align: right;\n",
       "    }\n",
       "</style>\n",
       "<table border=\"1\" class=\"dataframe\">\n",
       "  <thead>\n",
       "    <tr style=\"text-align: right;\">\n",
       "      <th></th>\n",
       "      <th>engagement_score</th>\n",
       "      <th>experience_score</th>\n",
       "      <th>satisfaction_score</th>\n",
       "    </tr>\n",
       "    <tr>\n",
       "      <th>MSISDN/Number</th>\n",
       "      <th></th>\n",
       "      <th></th>\n",
       "      <th></th>\n",
       "    </tr>\n",
       "  </thead>\n",
       "  <tbody>\n",
       "    <tr>\n",
       "      <th>3.360100e+10</th>\n",
       "      <td>15.192081</td>\n",
       "      <td>15.916637</td>\n",
       "      <td>15.554359</td>\n",
       "    </tr>\n",
       "    <tr>\n",
       "      <th>3.360100e+10</th>\n",
       "      <td>9.738230</td>\n",
       "      <td>12.435916</td>\n",
       "      <td>11.087073</td>\n",
       "    </tr>\n",
       "    <tr>\n",
       "      <th>3.360100e+10</th>\n",
       "      <td>9.669098</td>\n",
       "      <td>12.623022</td>\n",
       "      <td>11.146060</td>\n",
       "    </tr>\n",
       "    <tr>\n",
       "      <th>3.360101e+10</th>\n",
       "      <td>9.414621</td>\n",
       "      <td>11.666216</td>\n",
       "      <td>10.540418</td>\n",
       "    </tr>\n",
       "    <tr>\n",
       "      <th>3.360101e+10</th>\n",
       "      <td>6.465718</td>\n",
       "      <td>11.189011</td>\n",
       "      <td>8.827364</td>\n",
       "    </tr>\n",
       "  </tbody>\n",
       "</table>\n",
       "</div>"
      ],
      "text/plain": [
       "               engagement_score  experience_score  satisfaction_score\n",
       "MSISDN/Number                                                        \n",
       "3.360100e+10          15.192081         15.916637           15.554359\n",
       "3.360100e+10           9.738230         12.435916           11.087073\n",
       "3.360100e+10           9.669098         12.623022           11.146060\n",
       "3.360101e+10           9.414621         11.666216           10.540418\n",
       "3.360101e+10           6.465718         11.189011            8.827364"
      ]
     },
     "execution_count": 16,
     "metadata": {},
     "output_type": "execute_result"
    }
   ],
   "source": [
    "# Creating a new column for the dataframe representing satisfaction calculated as an average of engagement and experience score\n",
    "df['satisfaction_score'] = (df['engagement_score'] + df['experience_score'])/2\n",
    "df.head()"
   ]
  },
  {
   "cell_type": "markdown",
   "id": "1254dc0f",
   "metadata": {},
   "source": [
    "Task 4.2 - Consider the average of both engagement & experience scores as the satisfaction score & report the top 10 satisfied customer"
   ]
  },
  {
   "cell_type": "code",
   "execution_count": 18,
   "id": "07e67690",
   "metadata": {},
   "outputs": [
    {
     "data": {
      "text/html": [
       "<div>\n",
       "<style scoped>\n",
       "    .dataframe tbody tr th:only-of-type {\n",
       "        vertical-align: middle;\n",
       "    }\n",
       "\n",
       "    .dataframe tbody tr th {\n",
       "        vertical-align: top;\n",
       "    }\n",
       "\n",
       "    .dataframe thead th {\n",
       "        text-align: right;\n",
       "    }\n",
       "</style>\n",
       "<table border=\"1\" class=\"dataframe\">\n",
       "  <thead>\n",
       "    <tr style=\"text-align: right;\">\n",
       "      <th></th>\n",
       "      <th>engagement_score</th>\n",
       "      <th>experience_score</th>\n",
       "      <th>satisfaction_score</th>\n",
       "    </tr>\n",
       "    <tr>\n",
       "      <th>MSISDN/Number</th>\n",
       "      <th></th>\n",
       "      <th></th>\n",
       "      <th></th>\n",
       "    </tr>\n",
       "  </thead>\n",
       "  <tbody>\n",
       "    <tr>\n",
       "      <th>3.360100e+10</th>\n",
       "      <td>15.192081</td>\n",
       "      <td>15.916637</td>\n",
       "      <td>15.554359</td>\n",
       "    </tr>\n",
       "    <tr>\n",
       "      <th>3.362632e+10</th>\n",
       "      <td>21.296090</td>\n",
       "      <td>4.031117</td>\n",
       "      <td>12.663603</td>\n",
       "    </tr>\n",
       "    <tr>\n",
       "      <th>3.361489e+10</th>\n",
       "      <td>20.047971</td>\n",
       "      <td>5.138084</td>\n",
       "      <td>12.593027</td>\n",
       "    </tr>\n",
       "    <tr>\n",
       "      <th>3.362578e+10</th>\n",
       "      <td>20.110156</td>\n",
       "      <td>3.021788</td>\n",
       "      <td>11.565972</td>\n",
       "    </tr>\n",
       "    <tr>\n",
       "      <th>3.360100e+10</th>\n",
       "      <td>9.669098</td>\n",
       "      <td>12.623022</td>\n",
       "      <td>11.146060</td>\n",
       "    </tr>\n",
       "    <tr>\n",
       "      <th>3.360100e+10</th>\n",
       "      <td>9.738230</td>\n",
       "      <td>12.435916</td>\n",
       "      <td>11.087073</td>\n",
       "    </tr>\n",
       "    <tr>\n",
       "      <th>3.360101e+10</th>\n",
       "      <td>9.414621</td>\n",
       "      <td>11.666216</td>\n",
       "      <td>10.540418</td>\n",
       "    </tr>\n",
       "    <tr>\n",
       "      <th>3.365973e+10</th>\n",
       "      <td>18.700767</td>\n",
       "      <td>0.817626</td>\n",
       "      <td>9.759196</td>\n",
       "    </tr>\n",
       "    <tr>\n",
       "      <th>3.360313e+10</th>\n",
       "      <td>14.092319</td>\n",
       "      <td>5.300125</td>\n",
       "      <td>9.696222</td>\n",
       "    </tr>\n",
       "    <tr>\n",
       "      <th>3.360452e+10</th>\n",
       "      <td>14.127967</td>\n",
       "      <td>4.518197</td>\n",
       "      <td>9.323082</td>\n",
       "    </tr>\n",
       "  </tbody>\n",
       "</table>\n",
       "</div>"
      ],
      "text/plain": [
       "               engagement_score  experience_score  satisfaction_score\n",
       "MSISDN/Number                                                        \n",
       "3.360100e+10          15.192081         15.916637           15.554359\n",
       "3.362632e+10          21.296090          4.031117           12.663603\n",
       "3.361489e+10          20.047971          5.138084           12.593027\n",
       "3.362578e+10          20.110156          3.021788           11.565972\n",
       "3.360100e+10           9.669098         12.623022           11.146060\n",
       "3.360100e+10           9.738230         12.435916           11.087073\n",
       "3.360101e+10           9.414621         11.666216           10.540418\n",
       "3.365973e+10          18.700767          0.817626            9.759196\n",
       "3.360313e+10          14.092319          5.300125            9.696222\n",
       "3.360452e+10          14.127967          4.518197            9.323082"
      ]
     },
     "execution_count": 18,
     "metadata": {},
     "output_type": "execute_result"
    }
   ],
   "source": [
    "top10_satisfied_customers = df.sort_values(by='satisfaction_score', ascending=False).iloc[:10,:]\n",
    "top10_satisfied_customers.to_csv('../data/top10_satisfied_customers.csv')\n",
    "top10_satisfied_customers"
   ]
  },
  {
   "cell_type": "markdown",
   "id": "40678afb",
   "metadata": {},
   "source": [
    "# Build a regression model of your choice to predict the satisfaction score of a customer."
   ]
  },
  {
   "cell_type": "code",
   "execution_count": 19,
   "id": "1358776a",
   "metadata": {},
   "outputs": [
    {
     "data": {
      "text/html": [
       "<div>\n",
       "<style scoped>\n",
       "    .dataframe tbody tr th:only-of-type {\n",
       "        vertical-align: middle;\n",
       "    }\n",
       "\n",
       "    .dataframe tbody tr th {\n",
       "        vertical-align: top;\n",
       "    }\n",
       "\n",
       "    .dataframe thead th {\n",
       "        text-align: right;\n",
       "    }\n",
       "</style>\n",
       "<table border=\"1\" class=\"dataframe\">\n",
       "  <thead>\n",
       "    <tr style=\"text-align: right;\">\n",
       "      <th></th>\n",
       "      <th>Total UL and DL</th>\n",
       "      <th>Dur. (ms)</th>\n",
       "      <th>sessions frequency</th>\n",
       "      <th>Average TCP</th>\n",
       "      <th>Average RTT</th>\n",
       "      <th>Average throughput</th>\n",
       "      <th>satisfaction_score</th>\n",
       "    </tr>\n",
       "    <tr>\n",
       "      <th>MSISDN/Number</th>\n",
       "      <th></th>\n",
       "      <th></th>\n",
       "      <th></th>\n",
       "      <th></th>\n",
       "      <th></th>\n",
       "      <th></th>\n",
       "      <th></th>\n",
       "    </tr>\n",
       "  </thead>\n",
       "  <tbody>\n",
       "    <tr>\n",
       "      <th>3.360100e+10</th>\n",
       "      <td>-1.158862</td>\n",
       "      <td>20.571127</td>\n",
       "      <td>-0.495197</td>\n",
       "      <td>-1.357519</td>\n",
       "      <td>0.510533</td>\n",
       "      <td>15.220434</td>\n",
       "      <td>15.554359</td>\n",
       "    </tr>\n",
       "    <tr>\n",
       "      <th>3.360100e+10</th>\n",
       "      <td>0.921507</td>\n",
       "      <td>15.109232</td>\n",
       "      <td>-0.495197</td>\n",
       "      <td>0.711986</td>\n",
       "      <td>-0.596697</td>\n",
       "      <td>11.928930</td>\n",
       "      <td>11.087073</td>\n",
       "    </tr>\n",
       "    <tr>\n",
       "      <th>3.360100e+10</th>\n",
       "      <td>-0.575403</td>\n",
       "      <td>15.069424</td>\n",
       "      <td>-0.495197</td>\n",
       "      <td>-1.480467</td>\n",
       "      <td>-0.714487</td>\n",
       "      <td>11.918292</td>\n",
       "      <td>11.146060</td>\n",
       "    </tr>\n",
       "    <tr>\n",
       "      <th>3.360101e+10</th>\n",
       "      <td>2.095055</td>\n",
       "      <td>14.589959</td>\n",
       "      <td>-0.495197</td>\n",
       "      <td>-1.396600</td>\n",
       "      <td>-0.855836</td>\n",
       "      <td>10.960414</td>\n",
       "      <td>10.540418</td>\n",
       "    </tr>\n",
       "    <tr>\n",
       "      <th>3.360101e+10</th>\n",
       "      <td>0.701781</td>\n",
       "      <td>11.820586</td>\n",
       "      <td>0.731244</td>\n",
       "      <td>0.692157</td>\n",
       "      <td>-0.596697</td>\n",
       "      <td>10.681835</td>\n",
       "      <td>8.827364</td>\n",
       "    </tr>\n",
       "  </tbody>\n",
       "</table>\n",
       "</div>"
      ],
      "text/plain": [
       "               Total UL and DL  Dur. (ms)  sessions frequency  Average TCP  \\\n",
       "MSISDN/Number                                                                \n",
       "3.360100e+10         -1.158862  20.571127           -0.495197    -1.357519   \n",
       "3.360100e+10          0.921507  15.109232           -0.495197     0.711986   \n",
       "3.360100e+10         -0.575403  15.069424           -0.495197    -1.480467   \n",
       "3.360101e+10          2.095055  14.589959           -0.495197    -1.396600   \n",
       "3.360101e+10          0.701781  11.820586            0.731244     0.692157   \n",
       "\n",
       "               Average RTT  Average throughput  satisfaction_score  \n",
       "MSISDN/Number                                                       \n",
       "3.360100e+10      0.510533           15.220434           15.554359  \n",
       "3.360100e+10     -0.596697           11.928930           11.087073  \n",
       "3.360100e+10     -0.714487           11.918292           11.146060  \n",
       "3.360101e+10     -0.855836           10.960414           10.540418  \n",
       "3.360101e+10     -0.596697           10.681835            8.827364  "
      ]
     },
     "execution_count": 19,
     "metadata": {},
     "output_type": "execute_result"
    }
   ],
   "source": [
    "# Form a new Model training Dataframe consisting all of the columns\n",
    "train_df = enga_metr.copy(deep=True)\n",
    "train_df['Average TCP'] = exper_metr['Average TCP'].to_list()\n",
    "train_df['Average RTT'] = exper_metr['Average RTT'].to_list()\n",
    "train_df['Average throughput'] = exper_metr['Average throughput'].to_list()\n",
    "# Adding our average satisfaction score (this is going to be our predicted value)\n",
    "train_df['satisfaction_score'] = df['satisfaction_score'].to_list()\n",
    "train_df.head()"
   ]
  },
  {
   "cell_type": "code",
   "execution_count": 20,
   "id": "dd443c6b",
   "metadata": {},
   "outputs": [],
   "source": [
    "# Dividing the train data into actual train data (train + validation) and test data\n",
    "# 80 (60 + 20) and 20\n",
    "train_data = train_df.iloc[:int(len(train_df) * 0.8),:]\n",
    "test_data = train_df.iloc[int(len(train_df) * 0.8):,:]"
   ]
  },
  {
   "cell_type": "code",
   "execution_count": 22,
   "id": "e2182af1",
   "metadata": {},
   "outputs": [],
   "source": [
    "train_x = train_data.iloc[:,:-1]\n",
    "train_y = train_data.iloc[:,-1:]\n",
    "# \n",
    "test_x = test_data.iloc[:,:-1]\n",
    "test_y = test_data.iloc[:,-1:]"
   ]
  },
  {
   "cell_type": "code",
   "execution_count": 23,
   "id": "6b47c619",
   "metadata": {},
   "outputs": [],
   "source": [
    "from sklearn.model_selection import train_test_split\n",
    "xtrain,xtest,ytrain,ytest = train_test_split(train_x,train_y,test_size=0.2,random_state=40)"
   ]
  },
  {
   "cell_type": "code",
   "execution_count": 24,
   "id": "b5e8a585",
   "metadata": {},
   "outputs": [
    {
     "name": "stdout",
     "output_type": "stream",
     "text": [
      "The model score is: 0.88214\n"
     ]
    }
   ],
   "source": [
    "# Training the Ridge Regression Model on the splited training data\n",
    "# Implementing Ridge Regression Model\n",
    "alpha_val = 0.8\n",
    "rr = Ridge(alpha=alpha_val)\n",
    "rr.fit(xtrain, ytrain)\n",
    "# Validation value of the model\n",
    "validation_score = rr.score(xtest, ytest)\n",
    "print(\"The model score is: {:.5f}\".format(validation_score))"
   ]
  },
  {
   "cell_type": "code",
   "execution_count": 25,
   "id": "e45e6545",
   "metadata": {},
   "outputs": [
    {
     "ename": "FileNotFoundError",
     "evalue": "[Errno 2] No such file or directory: '../models/satisfaction_model.joblib'",
     "output_type": "error",
     "traceback": [
      "\u001b[1;31m---------------------------------------------------------------------------\u001b[0m",
      "\u001b[1;31mFileNotFoundError\u001b[0m                         Traceback (most recent call last)",
      "Input \u001b[1;32mIn [25]\u001b[0m, in \u001b[0;36m<cell line: 3>\u001b[1;34m()\u001b[0m\n\u001b[0;32m      1\u001b[0m \u001b[38;5;28;01mfrom\u001b[39;00m \u001b[38;5;21;01mjoblib\u001b[39;00m \u001b[38;5;28;01mimport\u001b[39;00m dump\n\u001b[0;32m      2\u001b[0m \u001b[38;5;66;03m# Saving the final Model using joblibs dump\u001b[39;00m\n\u001b[1;32m----> 3\u001b[0m \u001b[43mdump\u001b[49m\u001b[43m(\u001b[49m\u001b[43mrr\u001b[49m\u001b[43m,\u001b[49m\u001b[43m \u001b[49m\u001b[38;5;124;43m'\u001b[39;49m\u001b[38;5;124;43m../models/satisfaction_model.joblib\u001b[39;49m\u001b[38;5;124;43m'\u001b[39;49m\u001b[43m)\u001b[49m\n",
      "File \u001b[1;32mC:\\anaconda1\\lib\\site-packages\\joblib\\numpy_pickle.py:481\u001b[0m, in \u001b[0;36mdump\u001b[1;34m(value, filename, compress, protocol, cache_size)\u001b[0m\n\u001b[0;32m    479\u001b[0m         NumpyPickler(f, protocol\u001b[38;5;241m=\u001b[39mprotocol)\u001b[38;5;241m.\u001b[39mdump(value)\n\u001b[0;32m    480\u001b[0m \u001b[38;5;28;01melif\u001b[39;00m is_filename:\n\u001b[1;32m--> 481\u001b[0m     \u001b[38;5;28;01mwith\u001b[39;00m \u001b[38;5;28;43mopen\u001b[39;49m\u001b[43m(\u001b[49m\u001b[43mfilename\u001b[49m\u001b[43m,\u001b[49m\u001b[43m \u001b[49m\u001b[38;5;124;43m'\u001b[39;49m\u001b[38;5;124;43mwb\u001b[39;49m\u001b[38;5;124;43m'\u001b[39;49m\u001b[43m)\u001b[49m \u001b[38;5;28;01mas\u001b[39;00m f:\n\u001b[0;32m    482\u001b[0m         NumpyPickler(f, protocol\u001b[38;5;241m=\u001b[39mprotocol)\u001b[38;5;241m.\u001b[39mdump(value)\n\u001b[0;32m    483\u001b[0m \u001b[38;5;28;01melse\u001b[39;00m:\n",
      "\u001b[1;31mFileNotFoundError\u001b[0m: [Errno 2] No such file or directory: '../models/satisfaction_model.joblib'"
     ]
    }
   ],
   "source": [
    "from joblib import dump\n",
    "# Saving the final Model using joblibs dump\n",
    "dump(rr, '../models/satisfaction_model.joblib')"
   ]
  },
  {
   "cell_type": "code",
   "execution_count": null,
   "id": "5ed4bf55",
   "metadata": {},
   "outputs": [],
   "source": []
  }
 ],
 "metadata": {
  "kernelspec": {
   "display_name": "Python 3 (ipykernel)",
   "language": "python",
   "name": "python3"
  },
  "language_info": {
   "codemirror_mode": {
    "name": "ipython",
    "version": 3
   },
   "file_extension": ".py",
   "mimetype": "text/x-python",
   "name": "python",
   "nbconvert_exporter": "python",
   "pygments_lexer": "ipython3",
   "version": "3.9.12"
  }
 },
 "nbformat": 4,
 "nbformat_minor": 5
}
