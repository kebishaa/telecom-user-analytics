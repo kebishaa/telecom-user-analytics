{
 "cells": [
  {
   "cell_type": "markdown",
   "id": "a2bbe37c",
   "metadata": {},
   "source": [
    "# Satisfaction Analysis"
   ]
  },
  {
   "cell_type": "markdown",
   "id": "5d554087",
   "metadata": {},
   "source": [
    "Assuming that the satisfaction of a user is dependent on user engagement and experience, you’re expected in this section to analyze customer satisfaction in depth."
   ]
  },
  {
   "cell_type": "code",
   "execution_count": 1,
   "id": "356ff757",
   "metadata": {},
   "outputs": [],
   "source": [
    "#importing libraries\n",
    "import numpy as np\n",
    "import pandas as pd\n",
    "import plotly.graph_objects as go\n",
    "import plotly.express as px\n",
    "import seaborn as sns\n",
    "import matplotlib.pyplot as plt\n",
    "%matplotlib inline\n",
    "from statistics import *\n",
    "from sklearn import preprocessing\n",
    "from sklearn.cluster import KMeans\n",
    "from sklearn.preprocessing import StandardScaler\n",
    "from sklearn.model_selection import GridSearchCV\n",
    "from sklearn.linear_model import Ridge\n",
    "from sklearn.cluster import KMeans\n",
    "from sklearn.metrics.pairwise import euclidean_distances"
   ]
  },
  {
   "cell_type": "markdown",
   "id": "8b5b3682",
   "metadata": {},
   "source": [
    "# Based on the engagement analysis + the experience analysis you conducted above ,"
   ]
  },
  {
   "cell_type": "markdown",
   "id": "2debb307",
   "metadata": {},
   "source": [
    "Write a python program to assign:\n",
    "\n",
    "engagement score to each user. Consider the engagement score as the Euclidean distance between the user data point & the less engaged cluster (use the first clustering for this) (Euclidean Distance)\n",
    "experience score to each user. Consider the experience score as the Euclidean distance between the user data point & the worst experience’s cluster."
   ]
  },
  {
   "cell_type": "markdown",
   "id": "f1cbaae0",
   "metadata": {},
   "source": [
    "# Engagement score"
   ]
  },
  {
   "cell_type": "code",
   "execution_count": 4,
   "id": "b0b45786",
   "metadata": {},
   "outputs": [
    {
     "data": {
      "text/html": [
       "<div>\n",
       "<style scoped>\n",
       "    .dataframe tbody tr th:only-of-type {\n",
       "        vertical-align: middle;\n",
       "    }\n",
       "\n",
       "    .dataframe tbody tr th {\n",
       "        vertical-align: top;\n",
       "    }\n",
       "\n",
       "    .dataframe thead th {\n",
       "        text-align: right;\n",
       "    }\n",
       "</style>\n",
       "<table border=\"1\" class=\"dataframe\">\n",
       "  <thead>\n",
       "    <tr style=\"text-align: right;\">\n",
       "      <th></th>\n",
       "      <th>Total UL and DL</th>\n",
       "      <th>Dur. (ms)</th>\n",
       "      <th>sessions frequency</th>\n",
       "    </tr>\n",
       "  </thead>\n",
       "  <tbody>\n",
       "    <tr>\n",
       "      <th>0</th>\n",
       "      <td>-0.018266</td>\n",
       "      <td>5.431628</td>\n",
       "      <td>0.046955</td>\n",
       "    </tr>\n",
       "    <tr>\n",
       "      <th>1</th>\n",
       "      <td>-0.009948</td>\n",
       "      <td>1.332984</td>\n",
       "      <td>-0.210176</td>\n",
       "    </tr>\n",
       "    <tr>\n",
       "      <th>2</th>\n",
       "      <td>1.256253</td>\n",
       "      <td>-0.241265</td>\n",
       "      <td>-0.218358</td>\n",
       "    </tr>\n",
       "    <tr>\n",
       "      <th>3</th>\n",
       "      <td>-1.266658</td>\n",
       "      <td>-0.253828</td>\n",
       "      <td>-0.220158</td>\n",
       "    </tr>\n",
       "    <tr>\n",
       "      <th>4</th>\n",
       "      <td>0.010122</td>\n",
       "      <td>-0.050115</td>\n",
       "      <td>2.807734</td>\n",
       "    </tr>\n",
       "    <tr>\n",
       "      <th>5</th>\n",
       "      <td>-0.002853</td>\n",
       "      <td>-0.416422</td>\n",
       "      <td>-0.232556</td>\n",
       "    </tr>\n",
       "  </tbody>\n",
       "</table>\n",
       "</div>"
      ],
      "text/plain": [
       "   Total UL and DL  Dur. (ms)  sessions frequency\n",
       "0        -0.018266   5.431628            0.046955\n",
       "1        -0.009948   1.332984           -0.210176\n",
       "2         1.256253  -0.241265           -0.218358\n",
       "3        -1.266658  -0.253828           -0.220158\n",
       "4         0.010122  -0.050115            2.807734\n",
       "5        -0.002853  -0.416422           -0.232556"
      ]
     },
     "execution_count": 4,
     "metadata": {},
     "output_type": "execute_result"
    }
   ],
   "source": [
    "# centroid file from previous outputs\n",
    "enga_centr = pd.read_csv('../data/centero_engagment.csv')\n",
    "enga_centr = enga_centr.iloc[:,1:]\n",
    "enga_centr"
   ]
  },
  {
   "cell_type": "code",
   "execution_count": 6,
   "id": "76764e7c",
   "metadata": {},
   "outputs": [
    {
     "data": {
      "text/html": [
       "<div>\n",
       "<style scoped>\n",
       "    .dataframe tbody tr th:only-of-type {\n",
       "        vertical-align: middle;\n",
       "    }\n",
       "\n",
       "    .dataframe tbody tr th {\n",
       "        vertical-align: top;\n",
       "    }\n",
       "\n",
       "    .dataframe thead th {\n",
       "        text-align: right;\n",
       "    }\n",
       "</style>\n",
       "<table border=\"1\" class=\"dataframe\">\n",
       "  <thead>\n",
       "    <tr style=\"text-align: right;\">\n",
       "      <th></th>\n",
       "      <th>Total UL and DL</th>\n",
       "      <th>Dur. (ms)</th>\n",
       "      <th>sessions frequency</th>\n",
       "    </tr>\n",
       "    <tr>\n",
       "      <th>MSISDN/Number</th>\n",
       "      <th></th>\n",
       "      <th></th>\n",
       "      <th></th>\n",
       "    </tr>\n",
       "  </thead>\n",
       "  <tbody>\n",
       "    <tr>\n",
       "      <th>3.360100e+10</th>\n",
       "      <td>-1.158862</td>\n",
       "      <td>20.571127</td>\n",
       "      <td>-0.495197</td>\n",
       "    </tr>\n",
       "    <tr>\n",
       "      <th>3.360100e+10</th>\n",
       "      <td>0.921507</td>\n",
       "      <td>15.109232</td>\n",
       "      <td>-0.495197</td>\n",
       "    </tr>\n",
       "    <tr>\n",
       "      <th>3.360100e+10</th>\n",
       "      <td>-0.575403</td>\n",
       "      <td>15.069424</td>\n",
       "      <td>-0.495197</td>\n",
       "    </tr>\n",
       "    <tr>\n",
       "      <th>3.360101e+10</th>\n",
       "      <td>2.095055</td>\n",
       "      <td>14.589959</td>\n",
       "      <td>-0.495197</td>\n",
       "    </tr>\n",
       "    <tr>\n",
       "      <th>3.360101e+10</th>\n",
       "      <td>0.701781</td>\n",
       "      <td>11.820586</td>\n",
       "      <td>0.731244</td>\n",
       "    </tr>\n",
       "  </tbody>\n",
       "</table>\n",
       "</div>"
      ],
      "text/plain": [
       "               Total UL and DL  Dur. (ms)  sessions frequency\n",
       "MSISDN/Number                                                \n",
       "3.360100e+10         -1.158862  20.571127           -0.495197\n",
       "3.360100e+10          0.921507  15.109232           -0.495197\n",
       "3.360100e+10         -0.575403  15.069424           -0.495197\n",
       "3.360101e+10          2.095055  14.589959           -0.495197\n",
       "3.360101e+10          0.701781  11.820586            0.731244"
      ]
     },
     "execution_count": 6,
     "metadata": {},
     "output_type": "execute_result"
    }
   ],
   "source": [
    "# Import standardized engagement metric values \n",
    "enga_metr = pd.read_csv('../data/std_engagement.csv')\n",
    "enga_metr.index = enga_metr['MSISDN/Number']\n",
    "enga_metr = enga_metr.iloc[:,1:4]\n",
    "enga_metr.head()"
   ]
  },
  {
   "cell_type": "code",
   "execution_count": 7,
   "id": "327a2ba4",
   "metadata": {},
   "outputs": [
    {
     "data": {
      "text/plain": [
       "array([[15.19208078],\n",
       "       [ 9.73822996],\n",
       "       [ 9.66909777],\n",
       "       ...,\n",
       "       [ 4.61464489],\n",
       "       [ 4.66646744],\n",
       "       [ 4.70325266]])"
      ]
     },
     "execution_count": 7,
     "metadata": {},
     "output_type": "execute_result"
    }
   ],
   "source": [
    "# calculating the distance between the metric values and the centroid of the the first k-means cluster\n",
    "engagement_score = euclidean_distances(enga_metr.values.tolist(),[enga_centr.values.tolist()[0]])\n",
    "engagement_score"
   ]
  },
  {
   "cell_type": "code",
   "execution_count": 8,
   "id": "9a22395b",
   "metadata": {},
   "outputs": [
    {
     "data": {
      "text/plain": [
       "[15.192080784619563, 9.738229960336461]"
      ]
     },
     "execution_count": 8,
     "metadata": {},
     "output_type": "execute_result"
    }
   ],
   "source": [
    "engagement_score = [val[0] for val in engagement_score.tolist()]\n",
    "engagement_score[:2]"
   ]
  },
  {
   "cell_type": "markdown",
   "id": "bc8b6692",
   "metadata": {},
   "source": [
    "# Experience score"
   ]
  },
  {
   "cell_type": "code",
   "execution_count": 10,
   "id": "657915c4",
   "metadata": {},
   "outputs": [
    {
     "data": {
      "text/html": [
       "<div>\n",
       "<style scoped>\n",
       "    .dataframe tbody tr th:only-of-type {\n",
       "        vertical-align: middle;\n",
       "    }\n",
       "\n",
       "    .dataframe tbody tr th {\n",
       "        vertical-align: top;\n",
       "    }\n",
       "\n",
       "    .dataframe thead th {\n",
       "        text-align: right;\n",
       "    }\n",
       "</style>\n",
       "<table border=\"1\" class=\"dataframe\">\n",
       "  <thead>\n",
       "    <tr style=\"text-align: right;\">\n",
       "      <th></th>\n",
       "      <th>Average RTT</th>\n",
       "      <th>Average TCP</th>\n",
       "      <th>Average throughput</th>\n",
       "    </tr>\n",
       "  </thead>\n",
       "  <tbody>\n",
       "    <tr>\n",
       "      <th>0</th>\n",
       "      <td>0.750116</td>\n",
       "      <td>-0.506050</td>\n",
       "      <td>-0.744422</td>\n",
       "    </tr>\n",
       "    <tr>\n",
       "      <th>1</th>\n",
       "      <td>-1.230701</td>\n",
       "      <td>0.827638</td>\n",
       "      <td>-0.152066</td>\n",
       "    </tr>\n",
       "    <tr>\n",
       "      <th>2</th>\n",
       "      <td>0.518475</td>\n",
       "      <td>-0.346097</td>\n",
       "      <td>1.408331</td>\n",
       "    </tr>\n",
       "  </tbody>\n",
       "</table>\n",
       "</div>"
      ],
      "text/plain": [
       "   Average RTT  Average TCP  Average throughput\n",
       "0     0.750116    -0.506050           -0.744422\n",
       "1    -1.230701     0.827638           -0.152066\n",
       "2     0.518475    -0.346097            1.408331"
      ]
     },
     "execution_count": 10,
     "metadata": {},
     "output_type": "execute_result"
    }
   ],
   "source": [
    "# Get centroid value from the previous files\n",
    "exper_centr = pd.read_csv('../data/centro_experience.csv')\n",
    "exper_centr = exper_centr.iloc[:,1:]\n",
    "exper_centr"
   ]
  },
  {
   "cell_type": "code",
   "execution_count": 12,
   "id": "dd916828",
   "metadata": {},
   "outputs": [
    {
     "data": {
      "text/html": [
       "<div>\n",
       "<style scoped>\n",
       "    .dataframe tbody tr th:only-of-type {\n",
       "        vertical-align: middle;\n",
       "    }\n",
       "\n",
       "    .dataframe tbody tr th {\n",
       "        vertical-align: top;\n",
       "    }\n",
       "\n",
       "    .dataframe thead th {\n",
       "        text-align: right;\n",
       "    }\n",
       "</style>\n",
       "<table border=\"1\" class=\"dataframe\">\n",
       "  <thead>\n",
       "    <tr style=\"text-align: right;\">\n",
       "      <th></th>\n",
       "      <th>Average TCP</th>\n",
       "      <th>Average throughput</th>\n",
       "      <th>Average RTT</th>\n",
       "    </tr>\n",
       "    <tr>\n",
       "      <th>MSISDN/Number</th>\n",
       "      <th></th>\n",
       "      <th></th>\n",
       "      <th></th>\n",
       "    </tr>\n",
       "  </thead>\n",
       "  <tbody>\n",
       "    <tr>\n",
       "      <th>3.366117e+10</th>\n",
       "      <td>-1.357519</td>\n",
       "      <td>15.220434</td>\n",
       "      <td>0.510533</td>\n",
       "    </tr>\n",
       "    <tr>\n",
       "      <th>3.369817e+10</th>\n",
       "      <td>0.711986</td>\n",
       "      <td>11.928930</td>\n",
       "      <td>-0.596697</td>\n",
       "    </tr>\n",
       "    <tr>\n",
       "      <th>3.367251e+10</th>\n",
       "      <td>-1.480467</td>\n",
       "      <td>11.918292</td>\n",
       "      <td>-0.714487</td>\n",
       "    </tr>\n",
       "    <tr>\n",
       "      <th>3.365169e+10</th>\n",
       "      <td>-1.396600</td>\n",
       "      <td>10.960414</td>\n",
       "      <td>-0.855836</td>\n",
       "    </tr>\n",
       "    <tr>\n",
       "      <th>3.366856e+10</th>\n",
       "      <td>0.692157</td>\n",
       "      <td>10.681835</td>\n",
       "      <td>-0.596697</td>\n",
       "    </tr>\n",
       "    <tr>\n",
       "      <th>...</th>\n",
       "      <td>...</td>\n",
       "      <td>...</td>\n",
       "      <td>...</td>\n",
       "    </tr>\n",
       "    <tr>\n",
       "      <th>3.361648e+10</th>\n",
       "      <td>0.761222</td>\n",
       "      <td>-0.552987</td>\n",
       "      <td>-0.855836</td>\n",
       "    </tr>\n",
       "    <tr>\n",
       "      <th>3.362400e+10</th>\n",
       "      <td>0.761222</td>\n",
       "      <td>-0.552987</td>\n",
       "      <td>-1.303439</td>\n",
       "    </tr>\n",
       "    <tr>\n",
       "      <th>3.376193e+10</th>\n",
       "      <td>0.761222</td>\n",
       "      <td>-0.552987</td>\n",
       "      <td>-0.125535</td>\n",
       "    </tr>\n",
       "    <tr>\n",
       "      <th>3.369817e+10</th>\n",
       "      <td>0.761222</td>\n",
       "      <td>-0.552987</td>\n",
       "      <td>-1.067859</td>\n",
       "    </tr>\n",
       "    <tr>\n",
       "      <th>3.360672e+10</th>\n",
       "      <td>0.761222</td>\n",
       "      <td>-0.552987</td>\n",
       "      <td>1.251637</td>\n",
       "    </tr>\n",
       "  </tbody>\n",
       "</table>\n",
       "<p>106856 rows × 3 columns</p>\n",
       "</div>"
      ],
      "text/plain": [
       "               Average TCP  Average throughput  Average RTT\n",
       "MSISDN/Number                                              \n",
       "3.366117e+10     -1.357519           15.220434     0.510533\n",
       "3.369817e+10      0.711986           11.928930    -0.596697\n",
       "3.367251e+10     -1.480467           11.918292    -0.714487\n",
       "3.365169e+10     -1.396600           10.960414    -0.855836\n",
       "3.366856e+10      0.692157           10.681835    -0.596697\n",
       "...                    ...                 ...          ...\n",
       "3.361648e+10      0.761222           -0.552987    -0.855836\n",
       "3.362400e+10      0.761222           -0.552987    -1.303439\n",
       "3.376193e+10      0.761222           -0.552987    -0.125535\n",
       "3.369817e+10      0.761222           -0.552987    -1.067859\n",
       "3.360672e+10      0.761222           -0.552987     1.251637\n",
       "\n",
       "[106856 rows x 3 columns]"
      ]
     },
     "execution_count": 12,
     "metadata": {},
     "output_type": "execute_result"
    }
   ],
   "source": [
    "# standardized experience metric values\n",
    "exper_metr = pd.read_csv('../data/std_experience.csv')\n",
    "exper_metr.index = exper_metr['MSISDN/Number']\n",
    "exper_metr = exper_metr.iloc[:106856,1:4]\n",
    "exper_metr"
   ]
  },
  {
   "cell_type": "code",
   "execution_count": 13,
   "id": "136a3858",
   "metadata": {},
   "outputs": [
    {
     "data": {
      "text/plain": [
       "array([[15.91663653],\n",
       "       [12.43591568],\n",
       "       [12.62302166],\n",
       "       ...,\n",
       "       [ 0.62076363],\n",
       "       [ 0.32701291],\n",
       "       [ 1.99664168]])"
      ]
     },
     "execution_count": 13,
     "metadata": {},
     "output_type": "execute_result"
    }
   ],
   "source": [
    "# Calculating the distance between the metric values and the centroid of the the first k-means cluster\n",
    "experience_score = euclidean_distances(exper_metr.values.tolist(),[exper_centr.values.tolist()[0]])\n",
    "experience_score"
   ]
  },
  {
   "cell_type": "code",
   "execution_count": null,
   "id": "140079f3",
   "metadata": {},
   "outputs": [],
   "source": []
  }
 ],
 "metadata": {
  "kernelspec": {
   "display_name": "Python 3 (ipykernel)",
   "language": "python",
   "name": "python3"
  },
  "language_info": {
   "codemirror_mode": {
    "name": "ipython",
    "version": 3
   },
   "file_extension": ".py",
   "mimetype": "text/x-python",
   "name": "python",
   "nbconvert_exporter": "python",
   "pygments_lexer": "ipython3",
   "version": "3.9.12"
  }
 },
 "nbformat": 4,
 "nbformat_minor": 5
}
